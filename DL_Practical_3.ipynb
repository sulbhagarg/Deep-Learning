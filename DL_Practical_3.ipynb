{
  "nbformat": 4,
  "nbformat_minor": 0,
  "metadata": {
    "colab": {
      "name": "DL_Practical_3.ipynb",
      "provenance": [],
      "authorship_tag": "ABX9TyOT6/mIykN7CeCoDl3KsZsQ",
      "include_colab_link": true
    },
    "kernelspec": {
      "name": "python3",
      "display_name": "Python 3"
    },
    "accelerator": "GPU"
  },
  "cells": [
    {
      "cell_type": "markdown",
      "metadata": {
        "id": "view-in-github",
        "colab_type": "text"
      },
      "source": [
        "<a href=\"https://colab.research.google.com/github/sulbhagarg/Deep-Learning/blob/master/DL_Practical_3.ipynb\" target=\"_parent\"><img src=\"https://colab.research.google.com/assets/colab-badge.svg\" alt=\"Open In Colab\"/></a>"
      ]
    },
    {
      "cell_type": "code",
      "metadata": {
        "id": "NIXuYYcHD8ud",
        "colab_type": "code",
        "colab": {
          "base_uri": "https://localhost:8080/",
          "height": 121
        },
        "outputId": "478bde15-eafc-49c5-eb31-5d2a8e6263fe"
      },
      "source": [
        "from google.colab import drive\n",
        "drive.mount('/content/gdrive')"
      ],
      "execution_count": null,
      "outputs": [
        {
          "output_type": "stream",
          "text": [
            "Go to this URL in a browser: https://accounts.google.com/o/oauth2/auth?client_id=947318989803-6bn6qk8qdgf4n4g3pfee6491hc0brc4i.apps.googleusercontent.com&redirect_uri=urn%3aietf%3awg%3aoauth%3a2.0%3aoob&scope=email%20https%3a%2f%2fwww.googleapis.com%2fauth%2fdocs.test%20https%3a%2f%2fwww.googleapis.com%2fauth%2fdrive%20https%3a%2f%2fwww.googleapis.com%2fauth%2fdrive.photos.readonly%20https%3a%2f%2fwww.googleapis.com%2fauth%2fpeopleapi.readonly&response_type=code\n",
            "\n",
            "Enter your authorization code:\n",
            "··········\n",
            "Mounted at /content/gdrive\n"
          ],
          "name": "stdout"
        }
      ]
    },
    {
      "cell_type": "code",
      "metadata": {
        "id": "-UjFJ485FJAy",
        "colab_type": "code",
        "colab": {}
      },
      "source": [
        "import os\n",
        "import numpy as np\n",
        "import pandas as pd\n",
        "import matplotlib.pyplot as plt\n",
        "import random\n",
        "import cv2"
      ],
      "execution_count": null,
      "outputs": []
    },
    {
      "cell_type": "code",
      "metadata": {
        "id": "SACTA_3yFKa4",
        "colab_type": "code",
        "colab": {}
      },
      "source": [
        "import tensorflow as tf\n",
        "from tensorflow.keras.optimizers import Adam\n",
        "from tensorflow.keras import datasets, layers, models"
      ],
      "execution_count": null,
      "outputs": []
    },
    {
      "cell_type": "code",
      "metadata": {
        "id": "viixQS6EFMLd",
        "colab_type": "code",
        "colab": {
          "base_uri": "https://localhost:8080/",
          "height": 34
        },
        "outputId": "a11ae53e-76df-4f74-c6ec-5efd4a668726"
      },
      "source": [
        "!ls"
      ],
      "execution_count": null,
      "outputs": [
        {
          "output_type": "stream",
          "text": [
            "sample_data\n"
          ],
          "name": "stdout"
        }
      ]
    },
    {
      "cell_type": "markdown",
      "metadata": {
        "id": "1YxaMR4OvIWd",
        "colab_type": "text"
      },
      "source": [
        "**LOAD DATA**"
      ]
    },
    {
      "cell_type": "code",
      "metadata": {
        "id": "DA08AlslFOuj",
        "colab_type": "code",
        "colab": {
          "base_uri": "https://localhost:8080/",
          "height": 50
        },
        "outputId": "3f13fce2-fdb5-4806-d14f-902194621682"
      },
      "source": [
        "(train_images, train_labels), (test_images, test_labels) = datasets.cifar10.load_data()\n",
        "\n",
        "# Normalize pixel values to be between 0 and 1\n",
        "train_images, test_images = train_images / 255.0, test_images / 255.0"
      ],
      "execution_count": null,
      "outputs": [
        {
          "output_type": "stream",
          "text": [
            "Downloading data from https://www.cs.toronto.edu/~kriz/cifar-10-python.tar.gz\n",
            "170500096/170498071 [==============================] - 6s 0us/step\n"
          ],
          "name": "stdout"
        }
      ]
    },
    {
      "cell_type": "code",
      "metadata": {
        "id": "4tGk_yaNR_iu",
        "colab_type": "code",
        "colab": {
          "base_uri": "https://localhost:8080/",
          "height": 84
        },
        "outputId": "cc358f0e-77bf-4c32-efa3-de8495534a53"
      },
      "source": [
        "print(train_images.shape)\n",
        "print(test_images.shape)\n",
        "print(train_labels.shape)\n",
        "print(test_labels.shape)"
      ],
      "execution_count": null,
      "outputs": [
        {
          "output_type": "stream",
          "text": [
            "(50000, 32, 32, 3)\n",
            "(10000, 32, 32, 3)\n",
            "(50000, 1)\n",
            "(10000, 1)\n"
          ],
          "name": "stdout"
        }
      ]
    },
    {
      "cell_type": "code",
      "metadata": {
        "id": "JkKoBwM5Ouuw",
        "colab_type": "code",
        "colab": {}
      },
      "source": [
        "class Classifier(tf.keras.Model):\n",
        "  def __init__(self, Batch_Size=1, Image_Size=((32, 32, 3))):\n",
        "    super(Classifier, self).__init__()\n",
        "    \n",
        "    self.vgg = tf.keras.applications.VGG19(input_shape = Image_Shape, include_top = False, weights = 'imagenet')\n",
        "    self.vgg.trainable = False\n",
        "    self.flatten = tf.keras.layers.Flatten()\n",
        "    \n",
        "    self.do1 = tf.keras.layers.Dropout(0.6)\n",
        "    self.dense1 = tf.keras.layers.Dense(128, activation='relu')\n",
        "    \n",
        "    self.do2 = tf.keras.layers.Dropout(0.6)\n",
        "    self.dense2 = tf.keras.layers.Dense(10, activation='softmax')\n",
        "\n",
        "  def call(self, sample):\n",
        "    x = self.vgg(sample)\n",
        "    x = self.flatten(x)\n",
        "    x = self.do1(x)\n",
        "    x = self.dense1(x)\n",
        "    x = self.do2(x)\n",
        "    x = self.dense2(x)\n",
        "\n",
        "    return x"
      ],
      "execution_count": null,
      "outputs": []
    },
    {
      "cell_type": "code",
      "metadata": {
        "id": "Uk5ZB8KEQdT9",
        "colab_type": "code",
        "colab": {}
      },
      "source": [
        "Batch_Size = 64\n",
        "Image_Shape = (32, 32, 3)"
      ],
      "execution_count": null,
      "outputs": []
    },
    {
      "cell_type": "code",
      "metadata": {
        "id": "t699EQSHQetJ",
        "colab_type": "code",
        "colab": {
          "base_uri": "https://localhost:8080/",
          "height": 353
        },
        "outputId": "153df293-e9d9-4ca4-b8f4-52bec8889890"
      },
      "source": [
        "model = Classifier(Batch_Size, Image_Shape)\n",
        "model.build(input_shape=(None,  Image_Shape[0], Image_Shape[1], Image_Shape[2]))\n",
        "model.summary()"
      ],
      "execution_count": null,
      "outputs": [
        {
          "output_type": "stream",
          "text": [
            "Model: \"classifier_1\"\n",
            "_________________________________________________________________\n",
            "Layer (type)                 Output Shape              Param #   \n",
            "=================================================================\n",
            "vgg19 (Functional)           (None, 1, 1, 512)         20024384  \n",
            "_________________________________________________________________\n",
            "flatten_1 (Flatten)          multiple                  0         \n",
            "_________________________________________________________________\n",
            "dropout_2 (Dropout)          multiple                  0         \n",
            "_________________________________________________________________\n",
            "dense_2 (Dense)              multiple                  65664     \n",
            "_________________________________________________________________\n",
            "dropout_3 (Dropout)          multiple                  0         \n",
            "_________________________________________________________________\n",
            "dense_3 (Dense)              multiple                  1290      \n",
            "=================================================================\n",
            "Total params: 20,091,338\n",
            "Trainable params: 66,954\n",
            "Non-trainable params: 20,024,384\n",
            "_________________________________________________________________\n"
          ],
          "name": "stdout"
        }
      ]
    },
    {
      "cell_type": "code",
      "metadata": {
        "id": "ZfOQ1YP3QgH_",
        "colab_type": "code",
        "colab": {}
      },
      "source": [
        "model.compile(\n",
        "    optimizer = Adam(lr = 0.0001),\n",
        "    loss='sparse_categorical_crossentropy',\n",
        "    metrics=['accuracy'])"
      ],
      "execution_count": null,
      "outputs": []
    },
    {
      "cell_type": "code",
      "metadata": {
        "id": "6tMvUvdaQuFJ",
        "colab_type": "code",
        "colab": {
          "base_uri": "https://localhost:8080/",
          "height": 574
        },
        "outputId": "ddabec1a-bf52-43eb-a6af-d8bd163b9d7b"
      },
      "source": [
        "model.fit(\n",
        "    train_images, train_labels,\n",
        "    epochs = 15,\n",
        "    steps_per_epoch = 200,\n",
        "    validation_data = (test_images, test_labels),\n",
        "    validation_steps = 150\n",
        ")"
      ],
      "execution_count": null,
      "outputs": [
        {
          "output_type": "stream",
          "text": [
            "Epoch 1/15\n",
            "  2/200 [..............................] - ETA: 15s - loss: 1.9246 - accuracy: 0.3120WARNING:tensorflow:Callbacks method `on_train_batch_end` is slow compared to the batch time (batch time: 0.0094s vs `on_train_batch_end` time: 0.0728s). Check your callbacks.\n",
            "200/200 [==============================] - 20s 101ms/step - loss: 1.9046 - accuracy: 0.3159 - val_loss: 1.7473 - val_accuracy: 0.4234\n",
            "Epoch 2/15\n",
            "200/200 [==============================] - 19s 94ms/step - loss: 1.8861 - accuracy: 0.3238 - val_loss: 1.7297 - val_accuracy: 0.4304\n",
            "Epoch 3/15\n",
            "200/200 [==============================] - 19s 95ms/step - loss: 1.8720 - accuracy: 0.3267 - val_loss: 1.7120 - val_accuracy: 0.4346\n",
            "Epoch 4/15\n",
            "200/200 [==============================] - 19s 94ms/step - loss: 1.8603 - accuracy: 0.3304 - val_loss: 1.6993 - val_accuracy: 0.4411\n",
            "Epoch 5/15\n",
            "200/200 [==============================] - 19s 95ms/step - loss: 1.8448 - accuracy: 0.3353 - val_loss: 1.6825 - val_accuracy: 0.4442\n",
            "Epoch 6/15\n",
            "200/200 [==============================] - 19s 94ms/step - loss: 1.8373 - accuracy: 0.3418 - val_loss: 1.6713 - val_accuracy: 0.4505\n",
            "Epoch 7/15\n",
            "200/200 [==============================] - 19s 94ms/step - loss: 1.8219 - accuracy: 0.3473 - val_loss: 1.6574 - val_accuracy: 0.4516\n",
            "Epoch 8/15\n",
            "200/200 [==============================] - 19s 94ms/step - loss: 1.8191 - accuracy: 0.3496 - val_loss: 1.6518 - val_accuracy: 0.4545\n",
            "Epoch 9/15\n",
            "200/200 [==============================] - 19s 94ms/step - loss: 1.8121 - accuracy: 0.3520 - val_loss: 1.6406 - val_accuracy: 0.4580\n",
            "Epoch 10/15\n",
            "200/200 [==============================] - 19s 94ms/step - loss: 1.7965 - accuracy: 0.3578 - val_loss: 1.6292 - val_accuracy: 0.4591\n",
            "Epoch 11/15\n",
            "200/200 [==============================] - 19s 94ms/step - loss: 1.7981 - accuracy: 0.3607 - val_loss: 1.6210 - val_accuracy: 0.4619\n",
            "Epoch 12/15\n",
            "200/200 [==============================] - 19s 94ms/step - loss: 1.7903 - accuracy: 0.3613 - val_loss: 1.6135 - val_accuracy: 0.4645\n",
            "Epoch 13/15\n",
            "200/200 [==============================] - 19s 94ms/step - loss: 1.7816 - accuracy: 0.3679 - val_loss: 1.6017 - val_accuracy: 0.4684\n",
            "Epoch 14/15\n",
            "200/200 [==============================] - 19s 94ms/step - loss: 1.7769 - accuracy: 0.3692 - val_loss: 1.5976 - val_accuracy: 0.4696\n",
            "Epoch 15/15\n",
            "200/200 [==============================] - 19s 94ms/step - loss: 1.7696 - accuracy: 0.3674 - val_loss: 1.5929 - val_accuracy: 0.4722\n"
          ],
          "name": "stdout"
        },
        {
          "output_type": "execute_result",
          "data": {
            "text/plain": [
              "<tensorflow.python.keras.callbacks.History at 0x7f4be075af28>"
            ]
          },
          "metadata": {
            "tags": []
          },
          "execution_count": 17
        }
      ]
    },
    {
      "cell_type": "code",
      "metadata": {
        "id": "yTCqLvOlxSUy",
        "colab_type": "code",
        "colab": {}
      },
      "source": [
        ""
      ],
      "execution_count": null,
      "outputs": []
    }
  ]
}